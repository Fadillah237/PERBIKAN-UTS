{
 "cells": [
  {
   "cell_type": "code",
   "execution_count": 1,
   "id": "9f6411a8",
   "metadata": {},
   "outputs": [
    {
     "name": "stdout",
     "output_type": "stream",
     "text": [
      "masukan Email :fadillahmuhammad222@gmail.com\n",
      "True\n"
     ]
    }
   ],
   "source": [
    "#1\n",
    "email = input ( \"masukan Email :\")\n",
    "pos_at = 0\n",
    "pos_titik = 0\n",
    "pos_at = email.find('@')\n",
    "pos_titik = email.find('.')\n",
    "print(pos_at <pos_titik)"
   ]
  },
  {
   "cell_type": "code",
   "execution_count": 2,
   "id": "e0d3bf02",
   "metadata": {},
   "outputs": [
    {
     "name": "stdout",
     "output_type": "stream",
     "text": [
      "masukan Email :fadillahmuhammad222@gmailcom\n",
      "False\n"
     ]
    }
   ],
   "source": [
    "#1\n",
    "email = input ( \"masukan Email :\")\n",
    "pos_at = 0\n",
    "pos_titik = 0\n",
    "pos_at = email.find('@')\n",
    "pos_titik = email.find('.')\n",
    "print(pos_at <pos_titik)"
   ]
  },
  {
   "cell_type": "code",
   "execution_count": 7,
   "id": "f7b9b172",
   "metadata": {},
   "outputs": [
    {
     "name": "stdout",
     "output_type": "stream",
     "text": [
      "masukan kalimat: Belajar dasar pemograman menyenangkan bukan? Bukan! xD\n",
      "B3l4j4r d454r p3mo9r4m4n m3ny3n4n9k4n buk4n? Buk4n! xD\n"
     ]
    }
   ],
   "source": [
    "#2\n",
    "kalimat = input(\"masukan kalimat: \")\n",
    "i = 0\n",
    "kata = ''\n",
    "for i in range(len(kalimat)):\n",
    "        if kalimat [i] == \"a\" or kalimat [i] == \"A\" :\n",
    "             kata = kata + \"4\"\n",
    "        elif kalimat [i] == \"e\" or kalimat [i] == \"E\" :\n",
    "            kata = kata + \"3\"\n",
    "        elif kalimat [i] == \"e\" or kalimat [i] == \"L\" :\n",
    "            kata = kata + \"7\"\n",
    "        elif kalimat [i] == \"s\" or kalimat [i] == \"S\" :\n",
    "             kata = kata + \"5\"\n",
    "        elif kalimat [i] == \"g\" :\n",
    "             kata = kata + \"9\"\n",
    "        else:\n",
    "             kata = kata + kalimat [i]\n",
    "print(kata)"
   ]
  },
  {
   "cell_type": "code",
   "execution_count": null,
   "id": "f6bb86fe",
   "metadata": {},
   "outputs": [],
   "source": []
  }
 ],
 "metadata": {
  "kernelspec": {
   "display_name": "Python 3 (ipykernel)",
   "language": "python",
   "name": "python3"
  },
  "language_info": {
   "codemirror_mode": {
    "name": "ipython",
    "version": 3
   },
   "file_extension": ".py",
   "mimetype": "text/x-python",
   "name": "python",
   "nbconvert_exporter": "python",
   "pygments_lexer": "ipython3",
   "version": "3.9.13"
  }
 },
 "nbformat": 4,
 "nbformat_minor": 5
}
